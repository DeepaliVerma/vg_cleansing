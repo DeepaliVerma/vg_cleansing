{
 "metadata": {
  "name": "",
  "signature": "sha256:3ed7e99ecaa87bc43e437aacc841a9fcc59bfcf83d911d56040a07c18298d316"
 },
 "nbformat": 3,
 "nbformat_minor": 0,
 "worksheets": [
  {
   "cells": [
    {
     "cell_type": "code",
     "collapsed": false,
     "input": [
      "import numpy as np"
     ],
     "language": "python",
     "metadata": {},
     "outputs": [],
     "prompt_number": 1
    },
    {
     "cell_type": "code",
     "collapsed": false,
     "input": [
      "import import_data as imported_data"
     ],
     "language": "python",
     "metadata": {},
     "outputs": [
      {
       "output_type": "stream",
       "stream": "stdout",
       "text": [
        "image data length: 108077\n",
        "relationship data length: 108077"
       ]
      },
      {
       "output_type": "stream",
       "stream": "stdout",
       "text": [
        "\n",
        "0 images processed, 30 relationships"
       ]
      },
      {
       "output_type": "stream",
       "stream": "stdout",
       "text": [
        "\n",
        "1000 images processed, 17927 relationships"
       ]
      },
      {
       "output_type": "stream",
       "stream": "stdout",
       "text": [
        "\n",
        "2000 images processed, 33231 relationships"
       ]
      },
      {
       "output_type": "stream",
       "stream": "stdout",
       "text": [
        "\n",
        "3000 images processed, 45014 relationships"
       ]
      },
      {
       "output_type": "stream",
       "stream": "stdout",
       "text": [
        "\n",
        "4000 images processed, 63395 relationships"
       ]
      },
      {
       "output_type": "stream",
       "stream": "stdout",
       "text": [
        "\n",
        "5000 images processed, 79245 relationships"
       ]
      },
      {
       "output_type": "stream",
       "stream": "stdout",
       "text": [
        "\n",
        "6000 images processed, 94198 relationships"
       ]
      },
      {
       "output_type": "stream",
       "stream": "stdout",
       "text": [
        "\n",
        "7000 images processed, 108777 relationships"
       ]
      },
      {
       "output_type": "stream",
       "stream": "stdout",
       "text": [
        "\n",
        "8000 images processed, 121458 relationships"
       ]
      },
      {
       "output_type": "stream",
       "stream": "stdout",
       "text": [
        "\n",
        "9000 images processed, 130343 relationships"
       ]
      },
      {
       "output_type": "stream",
       "stream": "stdout",
       "text": [
        "\n",
        "10000 images processed, 143734 relationships"
       ]
      },
      {
       "output_type": "stream",
       "stream": "stdout",
       "text": [
        "\n",
        "11000 images processed, 164453 relationships"
       ]
      },
      {
       "output_type": "stream",
       "stream": "stdout",
       "text": [
        "\n",
        "12000 images processed, 188407 relationships"
       ]
      },
      {
       "output_type": "stream",
       "stream": "stdout",
       "text": [
        "\n",
        "13000 images processed, 215554 relationships"
       ]
      },
      {
       "output_type": "stream",
       "stream": "stdout",
       "text": [
        "\n",
        "14000 images processed, 241383 relationships"
       ]
      },
      {
       "output_type": "stream",
       "stream": "stdout",
       "text": [
        "\n",
        "15000 images processed, 264694 relationships"
       ]
      },
      {
       "output_type": "stream",
       "stream": "stdout",
       "text": [
        "\n",
        "16000 images processed, 285498 relationships"
       ]
      },
      {
       "output_type": "stream",
       "stream": "stdout",
       "text": [
        "\n",
        "17000 images processed, 305438 relationships"
       ]
      },
      {
       "output_type": "stream",
       "stream": "stdout",
       "text": [
        "\n",
        "18000 images processed, 327446 relationships"
       ]
      },
      {
       "output_type": "stream",
       "stream": "stdout",
       "text": [
        "\n",
        "19000 images processed, 349464 relationships"
       ]
      },
      {
       "output_type": "stream",
       "stream": "stdout",
       "text": [
        "\n",
        "20000 images processed, 371841 relationships"
       ]
      },
      {
       "output_type": "stream",
       "stream": "stdout",
       "text": [
        "\n",
        "21000 images processed, 391910 relationships"
       ]
      },
      {
       "output_type": "stream",
       "stream": "stdout",
       "text": [
        "\n",
        "22000 images processed, 410411 relationships"
       ]
      },
      {
       "output_type": "stream",
       "stream": "stdout",
       "text": [
        "\n",
        "23000 images processed, 427529 relationships"
       ]
      },
      {
       "output_type": "stream",
       "stream": "stdout",
       "text": [
        "\n",
        "24000 images processed, 445905 relationships"
       ]
      },
      {
       "output_type": "stream",
       "stream": "stdout",
       "text": [
        "\n",
        "25000 images processed, 462789 relationships"
       ]
      },
      {
       "output_type": "stream",
       "stream": "stdout",
       "text": [
        "\n",
        "26000 images processed, 481220 relationships"
       ]
      },
      {
       "output_type": "stream",
       "stream": "stdout",
       "text": [
        "\n",
        "27000 images processed, 498390 relationships"
       ]
      },
      {
       "output_type": "stream",
       "stream": "stdout",
       "text": [
        "\n",
        "28000 images processed, 512966 relationships"
       ]
      },
      {
       "output_type": "stream",
       "stream": "stdout",
       "text": [
        "\n",
        "29000 images processed, 526777 relationships"
       ]
      },
      {
       "output_type": "stream",
       "stream": "stdout",
       "text": [
        "\n",
        "30000 images processed, 543516 relationships"
       ]
      },
      {
       "output_type": "stream",
       "stream": "stdout",
       "text": [
        "\n",
        "31000 images processed, 559238 relationships"
       ]
      },
      {
       "output_type": "stream",
       "stream": "stdout",
       "text": [
        "\n",
        "32000 images processed, 576648 relationships"
       ]
      },
      {
       "output_type": "stream",
       "stream": "stdout",
       "text": [
        "\n",
        "33000 images processed, 592752 relationships"
       ]
      },
      {
       "output_type": "stream",
       "stream": "stdout",
       "text": [
        "\n",
        "34000 images processed, 608954 relationships"
       ]
      },
      {
       "output_type": "stream",
       "stream": "stdout",
       "text": [
        "\n",
        "35000 images processed, 626475 relationships"
       ]
      },
      {
       "output_type": "stream",
       "stream": "stdout",
       "text": [
        "\n",
        "36000 images processed, 643686 relationships"
       ]
      },
      {
       "output_type": "stream",
       "stream": "stdout",
       "text": [
        "\n",
        "37000 images processed, 662244 relationships"
       ]
      },
      {
       "output_type": "stream",
       "stream": "stdout",
       "text": [
        "\n",
        "38000 images processed, 678559 relationships"
       ]
      },
      {
       "output_type": "stream",
       "stream": "stdout",
       "text": [
        "\n",
        "39000 images processed, 693683 relationships"
       ]
      },
      {
       "output_type": "stream",
       "stream": "stdout",
       "text": [
        "\n",
        "40000 images processed, 709698 relationships"
       ]
      },
      {
       "output_type": "stream",
       "stream": "stdout",
       "text": [
        "\n",
        "41000 images processed, 728332 relationships"
       ]
      },
      {
       "output_type": "stream",
       "stream": "stdout",
       "text": [
        "\n",
        "42000 images processed, 746444 relationships"
       ]
      },
      {
       "output_type": "stream",
       "stream": "stdout",
       "text": [
        "\n",
        "43000 images processed, 765028 relationships"
       ]
      },
      {
       "output_type": "stream",
       "stream": "stdout",
       "text": [
        "\n",
        "44000 images processed, 782783 relationships"
       ]
      },
      {
       "output_type": "stream",
       "stream": "stdout",
       "text": [
        "\n",
        "45000 images processed, 801131 relationships"
       ]
      },
      {
       "output_type": "stream",
       "stream": "stdout",
       "text": [
        "\n",
        "46000 images processed, 818470 relationships"
       ]
      },
      {
       "output_type": "stream",
       "stream": "stdout",
       "text": [
        "\n",
        "47000 images processed, 835046 relationships"
       ]
      },
      {
       "output_type": "stream",
       "stream": "stdout",
       "text": [
        "\n",
        "48000 images processed, 852160 relationships"
       ]
      },
      {
       "output_type": "stream",
       "stream": "stdout",
       "text": [
        "\n",
        "49000 images processed, 869642 relationships"
       ]
      },
      {
       "output_type": "stream",
       "stream": "stdout",
       "text": [
        "\n",
        "50000 images processed, 887229 relationships"
       ]
      },
      {
       "output_type": "stream",
       "stream": "stdout",
       "text": [
        "\n",
        "51000 images processed, 903333 relationships"
       ]
      },
      {
       "output_type": "stream",
       "stream": "stdout",
       "text": [
        "\n",
        "52000 images processed, 920759 relationships"
       ]
      },
      {
       "output_type": "stream",
       "stream": "stdout",
       "text": [
        "\n",
        "53000 images processed, 937959 relationships"
       ]
      },
      {
       "output_type": "stream",
       "stream": "stdout",
       "text": [
        "\n",
        "54000 images processed, 953626 relationships"
       ]
      },
      {
       "output_type": "stream",
       "stream": "stdout",
       "text": [
        "\n",
        "55000 images processed, 971250 relationships"
       ]
      },
      {
       "output_type": "stream",
       "stream": "stdout",
       "text": [
        "\n",
        "56000 images processed, 988965 relationships"
       ]
      },
      {
       "output_type": "stream",
       "stream": "stdout",
       "text": [
        "\n",
        "57000 images processed, 1008501 relationships"
       ]
      },
      {
       "output_type": "stream",
       "stream": "stdout",
       "text": [
        "\n",
        "58000 images processed, 1026844 relationships"
       ]
      },
      {
       "output_type": "stream",
       "stream": "stdout",
       "text": [
        "\n",
        "59000 images processed, 1044188 relationships"
       ]
      },
      {
       "output_type": "stream",
       "stream": "stdout",
       "text": [
        "\n",
        "60000 images processed, 1062418 relationships"
       ]
      },
      {
       "output_type": "stream",
       "stream": "stdout",
       "text": [
        "\n",
        "61000 images processed, 1080840 relationships"
       ]
      },
      {
       "output_type": "stream",
       "stream": "stdout",
       "text": [
        "\n",
        "62000 images processed, 1100234 relationships"
       ]
      },
      {
       "output_type": "stream",
       "stream": "stdout",
       "text": [
        "\n",
        "63000 images processed, 1121418 relationships"
       ]
      },
      {
       "output_type": "stream",
       "stream": "stdout",
       "text": [
        "\n",
        "64000 images processed, 1142114 relationships"
       ]
      },
      {
       "output_type": "stream",
       "stream": "stdout",
       "text": [
        "\n",
        "65000 images processed, 1161029 relationships"
       ]
      },
      {
       "output_type": "stream",
       "stream": "stdout",
       "text": [
        "\n",
        "66000 images processed, 1178536 relationships"
       ]
      },
      {
       "output_type": "stream",
       "stream": "stdout",
       "text": [
        "\n",
        "67000 images processed, 1196949 relationships"
       ]
      },
      {
       "output_type": "stream",
       "stream": "stdout",
       "text": [
        "\n",
        "68000 images processed, 1214281 relationships"
       ]
      },
      {
       "output_type": "stream",
       "stream": "stdout",
       "text": [
        "\n",
        "69000 images processed, 1232267 relationships"
       ]
      },
      {
       "output_type": "stream",
       "stream": "stdout",
       "text": [
        "\n",
        "70000 images processed, 1248892 relationships"
       ]
      },
      {
       "output_type": "stream",
       "stream": "stdout",
       "text": [
        "\n",
        "71000 images processed, 1267338 relationships"
       ]
      },
      {
       "output_type": "stream",
       "stream": "stdout",
       "text": [
        "\n",
        "72000 images processed, 1285950 relationships"
       ]
      },
      {
       "output_type": "stream",
       "stream": "stdout",
       "text": [
        "\n",
        "73000 images processed, 1302946 relationships"
       ]
      },
      {
       "output_type": "stream",
       "stream": "stdout",
       "text": [
        "\n",
        "74000 images processed, 1322416 relationships"
       ]
      },
      {
       "output_type": "stream",
       "stream": "stdout",
       "text": [
        "\n",
        "75000 images processed, 1343239 relationships"
       ]
      },
      {
       "output_type": "stream",
       "stream": "stdout",
       "text": [
        "\n",
        "76000 images processed, 1364315 relationships"
       ]
      },
      {
       "output_type": "stream",
       "stream": "stdout",
       "text": [
        "\n",
        "77000 images processed, 1386019 relationships"
       ]
      },
      {
       "output_type": "stream",
       "stream": "stdout",
       "text": [
        "\n",
        "78000 images processed, 1407226 relationships"
       ]
      },
      {
       "output_type": "stream",
       "stream": "stdout",
       "text": [
        "\n",
        "79000 images processed, 1422843 relationships"
       ]
      },
      {
       "output_type": "stream",
       "stream": "stdout",
       "text": [
        "\n",
        "80000 images processed, 1435846 relationships"
       ]
      },
      {
       "output_type": "stream",
       "stream": "stdout",
       "text": [
        "\n",
        "81000 images processed, 1447989 relationships"
       ]
      },
      {
       "output_type": "stream",
       "stream": "stdout",
       "text": [
        "\n",
        "82000 images processed, 1461374 relationships"
       ]
      },
      {
       "output_type": "stream",
       "stream": "stdout",
       "text": [
        "\n",
        "83000 images processed, 1479569 relationships"
       ]
      },
      {
       "output_type": "stream",
       "stream": "stdout",
       "text": [
        "\n",
        "84000 images processed, 1498238 relationships"
       ]
      },
      {
       "output_type": "stream",
       "stream": "stdout",
       "text": [
        "\n",
        "85000 images processed, 1515033 relationships"
       ]
      },
      {
       "output_type": "stream",
       "stream": "stdout",
       "text": [
        "\n",
        "86000 images processed, 1529869 relationships"
       ]
      },
      {
       "output_type": "stream",
       "stream": "stdout",
       "text": [
        "\n",
        "87000 images processed, 1540882 relationships"
       ]
      },
      {
       "output_type": "stream",
       "stream": "stdout",
       "text": [
        "\n",
        "88000 images processed, 1550570 relationships"
       ]
      },
      {
       "output_type": "stream",
       "stream": "stdout",
       "text": [
        "\n",
        "89000 images processed, 1561763 relationships"
       ]
      },
      {
       "output_type": "stream",
       "stream": "stdout",
       "text": [
        "\n",
        "90000 images processed, 1576494 relationships"
       ]
      },
      {
       "output_type": "stream",
       "stream": "stdout",
       "text": [
        "\n",
        "91000 images processed, 1592577 relationships"
       ]
      },
      {
       "output_type": "stream",
       "stream": "stdout",
       "text": [
        "\n",
        "92000 images processed, 1606200 relationships"
       ]
      },
      {
       "output_type": "stream",
       "stream": "stdout",
       "text": [
        "\n",
        "93000 images processed, 1622886 relationships"
       ]
      },
      {
       "output_type": "stream",
       "stream": "stdout",
       "text": [
        "\n",
        "94000 images processed, 1640080 relationships"
       ]
      },
      {
       "output_type": "stream",
       "stream": "stdout",
       "text": [
        "\n",
        "95000 images processed, 1656550 relationships"
       ]
      },
      {
       "output_type": "stream",
       "stream": "stdout",
       "text": [
        "\n",
        "96000 images processed, 1672478 relationships"
       ]
      },
      {
       "output_type": "stream",
       "stream": "stdout",
       "text": [
        "\n",
        "97000 images processed, 1689203 relationships"
       ]
      },
      {
       "output_type": "stream",
       "stream": "stdout",
       "text": [
        "\n",
        "98000 images processed, 1707387 relationships"
       ]
      },
      {
       "output_type": "stream",
       "stream": "stdout",
       "text": [
        "\n",
        "99000 images processed, 1727686 relationships"
       ]
      },
      {
       "output_type": "stream",
       "stream": "stdout",
       "text": [
        "\n",
        "100000 images processed, 1746967 relationships"
       ]
      },
      {
       "output_type": "stream",
       "stream": "stdout",
       "text": [
        "\n",
        "101000 images processed, 1768817 relationships"
       ]
      },
      {
       "output_type": "stream",
       "stream": "stdout",
       "text": [
        "\n",
        "102000 images processed, 1790642 relationships"
       ]
      },
      {
       "output_type": "stream",
       "stream": "stdout",
       "text": [
        "\n",
        "103000 images processed, 1806991 relationships"
       ]
      },
      {
       "output_type": "stream",
       "stream": "stdout",
       "text": [
        "\n",
        "104000 images processed, 1824176 relationships"
       ]
      },
      {
       "output_type": "stream",
       "stream": "stdout",
       "text": [
        "\n",
        "105000 images processed, 1848665 relationships"
       ]
      },
      {
       "output_type": "stream",
       "stream": "stdout",
       "text": [
        "\n",
        "106000 images processed, 1866533 relationships"
       ]
      },
      {
       "output_type": "stream",
       "stream": "stdout",
       "text": [
        "\n",
        "107000 images processed, 1880823 relationships"
       ]
      },
      {
       "output_type": "stream",
       "stream": "stdout",
       "text": [
        "\n",
        "108000 images processed, 1894646 relationships"
       ]
      },
      {
       "output_type": "stream",
       "stream": "stdout",
       "text": [
        "\n",
        "Currently, we have 1895709 relationship tuples\n"
       ]
      },
      {
       "output_type": "stream",
       "stream": "stdout",
       "text": [
        "\n",
        "Currently, we have 21724 predicates\n",
        "\n"
       ]
      }
     ],
     "prompt_number": 3
    },
    {
     "cell_type": "code",
     "collapsed": false,
     "input": [
      "def print_phrase(imported_data, predicate):\n",
      "    relationship_num = len(imported_data.predicate_dataset[predicate]['index'])\n",
      "    print('Total: {} relationship items in [{}]\\n'.format(relationship_num, predicate))\n",
      "    for r_id, relationship_item in enumerate(imported_data.predicate_dataset[predicate]['index']):\n",
      "        print('[{}]: [{}]-[{}]-[{}]\\n'.format(predicate, \\\n",
      "                                              imported_data.predicate_dataset[predicate]['subject'][r_id], \\\n",
      "                                              predicate, \\\n",
      "                                              imported_data.predicate_dataset[predicate]['object'][r_id]))\n",
      "        if r_id > 200:\n",
      "            break\n"
     ],
     "language": "python",
     "metadata": {},
     "outputs": [],
     "prompt_number": 4
    },
    {
     "cell_type": "code",
     "collapsed": false,
     "input": [
      "def output_predicate_list(imported_data, frequency_thres):\n",
      "    output_file = '/home/ykli/predicate_list_{}.txt'.format(frequency_thres)\n",
      "    with open(output_file, 'w') as f:\n",
      "        for idx, predicate in enumerate(imported_data.predicate_dataset.keys()):\n",
      "            if imported_data.predicate_count[predicate] > frequency_thres:\n",
      "                f.write(predicate+'\\n')\n",
      "                \n",
      "            "
     ],
     "language": "python",
     "metadata": {},
     "outputs": [],
     "prompt_number": 5
    },
    {
     "cell_type": "code",
     "collapsed": false,
     "input": [
      "print_phrase(imported_data, 'wear')"
     ],
     "language": "python",
     "metadata": {},
     "outputs": [
      {
       "output_type": "stream",
       "stream": "stdout",
       "text": [
        "Total: 117156 relationship items in [wear]\n",
        "\n",
        "[wear]: [man]-[wear]-[pant]\n",
        "\n",
        "[wear]: [man]-[wear]-[shirt]\n",
        "\n",
        "[wear]: [man]-[wear]-[shoe]\n",
        "\n",
        "[wear]: [man]-[wear]-[glass]\n",
        "\n",
        "[wear]: [man]-[wear]-[pant]\n",
        "\n",
        "[wear]: [man]-[wear]-[glass]\n",
        "\n",
        "[wear]: [man]-[wear]-[jacket]\n",
        "\n",
        "[wear]: [man]-[wear]-[backpack]\n",
        "\n",
        "[wear]: [girl]-[wear]-[chain]\n",
        "\n",
        "[wear]: [girl]-[wear]-[necklace]\n",
        "\n",
        "[wear]: [woman]-[wear]-[pant]\n",
        "\n",
        "[wear]: [woman]-[wear]-[earring]\n",
        "\n",
        "[wear]: [woman]-[wear]-[sweater]\n",
        "\n",
        "[wear]: [man]-[wear]-[shirt]\n",
        "\n",
        "[wear]: [guy]-[wear]-[glass]\n",
        "\n",
        "[wear]: [man]-[wear]-[glass]\n",
        "\n",
        "[wear]: [man]-[wear]-[pant]\n",
        "\n",
        "[wear]: [man]-[wear]-[shirt]\n",
        "\n",
        "[wear]: [man]-[wear]-[shirt]\n",
        "\n",
        "[wear]: [child]-[wear]-[yellow]\n",
        "\n",
        "[wear]: [woman]-[wear]-[watch]\n",
        "\n",
        "[wear]: [woman]-[wear]-[shirt]\n",
        "\n",
        "[wear]: [kid]-[wear]-[yellow]\n",
        "\n",
        "[wear]: [man]-[wear]-[suit]\n",
        "\n",
        "[wear]: [woman]-[wear]-[skirt]\n",
        "\n",
        "[wear]: [woman]-[wear]-[attire]\n",
        "\n",
        "[wear]: [woman]-[wear]-[attire]\n",
        "\n",
        "[wear]: [woman]-[wear]-[short]\n",
        "\n",
        "[wear]: [man]-[wear]-[shirt]\n",
        "\n",
        "[wear]: [man]-[wear]-[sweatshirt]\n",
        "\n",
        "[wear]: [man]-[wear]-[suit]\n",
        "\n",
        "[wear]: [man]-[wear]-[suit]\n",
        "\n",
        "[wear]: [man]-[wear]-[tie]\n",
        "\n",
        "[wear]: [man]-[wear]-[jacket]\n",
        "\n",
        "[wear]: [person]-[wear]-[shirt]\n",
        "\n",
        "[wear]: [person]-[wear]-[jacket]\n",
        "\n",
        "[wear]: [person]-[wear]-[pant]\n",
        "\n",
        "[wear]: [person]-[wear]-[skirt]\n",
        "\n",
        "[wear]: [person]-[wear]-[shirt]\n",
        "\n",
        "[wear]: [man]-[wear]-[shirt]\n",
        "\n",
        "[wear]: [person]-[wear]-[shirt]\n",
        "\n",
        "[wear]: [woman]-[wear]-[jacket]\n",
        "\n",
        "[wear]: [man]-[wear]-[jacket]\n",
        "\n",
        "[wear]: [person]-[wear]-[jacket]\n",
        "\n",
        "[wear]: [woman]-[wear]-[jacket]\n",
        "\n",
        "[wear]: [man]-[wear]-[jacket]\n",
        "\n",
        "[wear]: [woman]-[wear]-[shirt]\n",
        "\n",
        "[wear]: [woman]-[wear]-[sunglass]\n",
        "\n",
        "[wear]: [woman]-[wear]-[sunglass]\n",
        "\n",
        "[wear]: [woman]-[wear]-[sunglass]\n",
        "\n",
        "[wear]: [woman]-[wear]-[sunglass]\n",
        "\n",
        "[wear]: [woman]-[wear]-[pant]\n",
        "\n",
        "[wear]: [woman]-[wear]-[glass]\n",
        "\n",
        "[wear]: [man]-[wear]-[suit]\n",
        "\n",
        "[wear]: [man]-[wear]-[glass]\n",
        "\n",
        "[wear]: [woman]-[wear]-[blouse]\n",
        "\n",
        "[wear]: [man]-[wear]-[glass]\n",
        "\n",
        "[wear]: [man]-[wear]-[tie]\n",
        "\n",
        "[wear]: [man]-[wear]-[suit]\n",
        "\n",
        "[wear]: [man]-[wear]-[shirt]\n",
        "\n",
        "[wear]: [woman]-[wear]-[necklace]\n",
        "\n",
        "[wear]: [woman]-[wear]-[shirt]\n",
        "\n",
        "[wear]: [man]-[wear]-[suit]\n",
        "\n",
        "[wear]: [man]-[wear]-[shirt]\n",
        "\n",
        "[wear]: [man]-[wear]-[shirt]\n",
        "\n",
        "[wear]: [man]-[wear]-[pant]\n",
        "\n",
        "[wear]: [person]-[wear]-[hat]\n",
        "\n",
        "[wear]: [person]-[wear]-[hat]\n",
        "\n",
        "[wear]: [man]-[wear]-[short]\n",
        "\n",
        "[wear]: [man]-[wear]-[short]\n",
        "\n",
        "[wear]: [woman]-[wear]-[swimsuit]\n",
        "\n",
        "[wear]: [man]-[wear]-[short]\n",
        "\n",
        "[wear]: [man]-[wear]-[short]\n",
        "\n",
        "[wear]: [man]-[wear]-[jacket]\n",
        "\n",
        "[wear]: [man]-[wear]-[backpack]\n",
        "\n",
        "[wear]: [construction_worker]-[wear]-[coverall]\n",
        "\n",
        "[wear]: [construction_worker]-[wear]-[coverall]\n",
        "\n",
        "[wear]: [man]-[wear]-[helmet]\n",
        "\n",
        "[wear]: [woman]-[wear]-[watch]\n",
        "\n",
        "[wear]: [man]-[wear]-[jean]\n",
        "\n",
        "[wear]: [woman]-[wear]-[jean]\n",
        "\n",
        "[wear]: [man]-[wear]-[shirt]\n",
        "\n",
        "[wear]: [man]-[wear]-[watch]\n",
        "\n",
        "[wear]: [man]-[wear]-[watch]\n",
        "\n",
        "[wear]: [woman]-[wear]-[jean]\n",
        "\n",
        "[wear]: [woman]-[wear]-[watch]\n",
        "\n",
        "[wear]: [woman]-[wear]-[shirt]\n",
        "\n",
        "[wear]: [man]-[wear]-[shirt]\n",
        "\n",
        "[wear]: [woman]-[wear]-[watch]\n",
        "\n",
        "[wear]: [man]-[wear]-[jean]\n",
        "\n",
        "[wear]: [woman]-[wear]-[jean]\n",
        "\n",
        "[wear]: [man]-[wear]-[watch]\n",
        "\n",
        "[wear]: [man]-[wear]-[shirt]\n",
        "\n",
        "[wear]: [woman]-[wear]-[white]\n",
        "\n",
        "[wear]: [guy]-[wear]-[pant]\n",
        "\n",
        "[wear]: [man]-[wear]-[tie]\n",
        "\n",
        "[wear]: [woman]-[wear]-[top]\n",
        "\n",
        "[wear]: [man]-[wear]-[shirt]\n",
        "\n",
        "[wear]: [woman]-[wear]-[skirt]\n",
        "\n",
        "[wear]: [person]-[wear]-[shirt]\n",
        "\n",
        "[wear]: [man]-[wear]-[shirt]\n",
        "\n",
        "[wear]: [person]-[wear]-[shirt]\n",
        "\n",
        "[wear]: [person]-[wear]-[pant]\n",
        "\n",
        "[wear]: [man]-[wear]-[shirt]\n",
        "\n",
        "[wear]: [child]-[wear]-[cap]\n",
        "\n",
        "[wear]: [man]-[wear]-[pant]\n",
        "\n",
        "[wear]: [woman]-[wear]-[shirt]\n",
        "\n",
        "[wear]: [woman]-[wear]-[skirt]\n",
        "\n",
        "[wear]: [person]-[wear]-[shirt]\n",
        "\n",
        "[wear]: [person]-[wear]-[shirt]\n",
        "\n",
        "[wear]: [man]-[wear]-[pant]\n",
        "\n",
        "[wear]: [man]-[wear]-[shirt]\n",
        "\n",
        "[wear]: [woman]-[wear]-[skirt]\n",
        "\n",
        "[wear]: [man]-[wear]-[shirt]\n",
        "\n",
        "[wear]: [person]-[wear]-[shirt]\n",
        "\n",
        "[wear]: [man]-[wear]-[shirt]\n",
        "\n",
        "[wear]: [woman]-[wear]-[robe]\n",
        "\n",
        "[wear]: [man]-[wear]-[short]\n",
        "\n",
        "[wear]: [person]-[wear]-[jean]\n",
        "\n",
        "[wear]: [man]-[wear]-[overall]\n",
        "\n",
        "[wear]: [man]-[wear]-[overall]\n",
        "\n",
        "[wear]: [woman]-[wear]-[coat]\n",
        "\n",
        "[wear]: [woman]-[wear]-[coat]\n",
        "\n",
        "[wear]: [man]-[wear]-[overall]\n",
        "\n",
        "[wear]: [woman]-[wear]-[coat]\n",
        "\n",
        "[wear]: [woman]-[wear]-[coat]\n",
        "\n",
        "[wear]: [man]-[wear]-[overall]\n",
        "\n",
        "[wear]: [woman]-[wear]-[scarf]\n",
        "\n",
        "[wear]: [man]-[wear]-[shoe]\n",
        "\n",
        "[wear]: [woman]-[wear]-[jean]\n",
        "\n",
        "[wear]: [woman]-[wear]-[shirt]\n",
        "\n",
        "[wear]: [man]-[wear]-[short]\n",
        "\n",
        "[wear]: [man]-[wear]-[short]\n",
        "\n",
        "[wear]: [man]-[wear]-[helmet]\n",
        "\n",
        "[wear]: [man]-[wear]-[shirt]\n",
        "\n",
        "[wear]: [man]-[wear]-[helmet]\n",
        "\n",
        "[wear]: [man]-[wear]-[shirt]\n",
        "\n",
        "[wear]: [man]-[wear]-[cap]\n",
        "\n",
        "[wear]: [woman]-[wear]-[coat]\n",
        "\n",
        "[wear]: [man]-[wear]-[shirt]\n",
        "\n",
        "[wear]: [woman]-[wear]-[coat]\n",
        "\n",
        "[wear]: [man]-[wear]-[hat]\n",
        "\n",
        "[wear]: [man]-[wear]-[scarf]\n",
        "\n",
        "[wear]: [man]-[wear]-[scarf]\n",
        "\n",
        "[wear]: [man]-[wear]-[cap]\n",
        "\n",
        "[wear]: [man]-[wear]-[jacket]\n",
        "\n",
        "[wear]: [man]-[wear]-[blazer]\n",
        "\n",
        "[wear]: [woman]-[wear]-[necklace]\n",
        "\n",
        "[wear]: [woman]-[wear]-[earring]\n",
        "\n",
        "[wear]: [woman]-[wear]-[blouse]\n",
        "\n",
        "[wear]: [man]-[wear]-[suit]\n",
        "\n",
        "[wear]: [woman]-[wear]-[lipstick]\n",
        "\n",
        "[wear]: [woman]-[wear]-[necklace]\n",
        "\n",
        "[wear]: [woman]-[wear]-[earring]\n",
        "\n",
        "[wear]: [woman]-[wear]-[shirt]\n",
        "\n",
        "[wear]: [man]-[wear]-[suit]\n",
        "\n",
        "[wear]: [person]-[wear]-[shirt]\n",
        "\n",
        "[wear]: [woman]-[wear]-[shirt]\n",
        "\n",
        "[wear]: [person]-[wear]-[shirt]\n",
        "\n",
        "[wear]: [person]-[wear]-[pant]\n",
        "\n",
        "[wear]: [person]-[wear]-[jean]\n",
        "\n",
        "[wear]: [person]-[wear]-[jacket]\n",
        "\n",
        "[wear]: [child]-[wear]-[jacket]\n",
        "\n",
        "[wear]: [man]-[wear]-[hat]\n",
        "\n",
        "[wear]: [man]-[wear]-[shirt]\n",
        "\n",
        "[wear]: [man]-[wear]-[shirt]\n",
        "\n",
        "[wear]: [woman]-[wear]-[jean]\n",
        "\n",
        "[wear]: [woman]-[wear]-[denim]\n",
        "\n",
        "[wear]: [woman]-[wear]-[shirt]\n",
        "\n",
        "[wear]: [woman]-[wear]-[shirt]\n",
        "\n",
        "[wear]: [person]-[wear]-[backpack]\n",
        "\n",
        "[wear]: [person]-[wear]-[jean]\n",
        "\n",
        "[wear]: [person]-[wear]-[white]\n",
        "\n",
        "[wear]: [man]-[wear]-[sweater]\n",
        "\n",
        "[wear]: [man]-[wear]-[sweater]\n",
        "\n",
        "[wear]: [man]-[wear]-[shirt]\n",
        "\n",
        "[wear]: [woman]-[wear]-[hat]\n",
        "\n",
        "[wear]: [woman]-[wear]-[hat]\n",
        "\n",
        "[wear]: [woman]-[wear]-[jacket]\n",
        "\n",
        "[wear]: [man]-[wear]-[shirt]\n",
        "\n",
        "[wear]: [man]-[wear]-[shirt]\n",
        "\n",
        "[wear]: [man]-[wear]-[jean]\n",
        "\n",
        "[wear]: [woman]-[wear]-[jacket]\n",
        "\n",
        "[wear]: [woman]-[wear]-[jean]\n",
        "\n",
        "[wear]: [person]-[wear]-[top]\n",
        "\n",
        "[wear]: [person]-[wear]-[short]\n",
        "\n",
        "[wear]: [person]-[wear]-[short]\n",
        "\n",
        "[wear]: [person]-[wear]-[top]\n",
        "\n",
        "[wear]: [woman]-[wear]-[dress]\n",
        "\n",
        "[wear]: [person]-[wear]-[top]\n",
        "\n",
        "[wear]: [woman]-[wear]-[dress]\n",
        "\n",
        "[wear]: [woman]-[wear]-[sweater]\n",
        "\n",
        "[wear]: [woman]-[wear]-[glass]\n",
        "\n",
        "[wear]: [person]-[wear]-[short]\n",
        "\n",
        "[wear]: [woman]-[wear]-[skirt]\n",
        "\n",
        "[wear]: [man]-[wear]-[backpack]\n",
        "\n",
        "[wear]: [man]-[wear]-[shirt]\n",
        "\n",
        "[wear]: [woman]-[wear]-[shirt]\n",
        "\n",
        "[wear]: [man]-[wear]-[jean]\n",
        "\n",
        "[wear]: [man]-[wear]-[shirt]\n",
        "\n",
        "[wear]: [person]-[wear]-[hat]\n",
        "\n",
        "[wear]: [woman]-[wear]-[hat]\n",
        "\n"
       ]
      }
     ],
     "prompt_number": 26
    },
    {
     "cell_type": "code",
     "collapsed": false,
     "input": [
      "output_predicate_list(imported_data, 100)"
     ],
     "language": "python",
     "metadata": {},
     "outputs": [],
     "prompt_number": 49
    }
   ],
   "metadata": {}
  }
 ]
}